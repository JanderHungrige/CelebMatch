{
 "cells": [
  {
   "cell_type": "markdown",
   "metadata": {},
   "source": [
    "# Convert Keras model to TFlight \n",
    "\n",
    "Here we want to convert a keras model (keras_vggface) into a Tensorflow-light model to be able to use it for faster inference on an embedded system. Also we want to be able to do post-training-quantisation. This is also done via the Tensorflow-light module.\n",
    "\n",
    "Please install keras_vggface beforehand with: \n",
    "\n",
    "pip install git+https://github.com/rcmalli/keras-vggface.git"
   ]
  },
  {
   "cell_type": "code",
   "execution_count": 7,
   "metadata": {
    "ExecuteTime": {
     "end_time": "2020-03-18T23:12:00.257131Z",
     "start_time": "2020-03-18T23:12:00.245766Z"
    }
   },
   "outputs": [
    {
     "name": "stdout",
     "output_type": "stream",
     "text": [
      "2.1.0\n"
     ]
    }
   ],
   "source": [
    "import cv2\n",
    "from pathlib import Path\n",
    "from keras_vggface.vggface import VGGFace\n",
    "from keras_vggface.utils import preprocess_input\n",
    "import tensorflow as tf\n",
    "from tensorflow import keras\n",
    "import numpy as np\n",
    "\n",
    "print(tf.version.VERSION)\n",
    "tf.keras.backend.clear_session()  # For easy reset of notebook state.\n"
   ]
  },
  {
   "cell_type": "markdown",
   "metadata": {},
   "source": [
    " From: https://github.com/tensorflow/tensorflow/issues/31057\n",
    "\n",
    "**Explanation:** \n",
    "\n",
    " As you didn't run the your model, it does not know the shape and dtype of the input data it should be expecting, and thus cannot create its weight variables.\n",
    " \n",
    " To be eiter saved as pb or converted to tensorflowLight, the model needs to be initiatetd, either with:\n",
    " fit, or run , etc.\n",
    "\n",
    "**Workaround:**\n",
    "\n",
    "https://github.com/tensorflow/tensorflow/issues/31057#issuecomment-523262141 \n",
    " One workaround is that after finished custom training, call model.predict on some input tensors and then call model.save to save your model as SavedModel format.\n",
    " \n",
    " \n",
    " **also:**\n",
    " \n",
    " https://github.com/tensorflow/tensorflow/issues/31057#issuecomment-560335565\n",
    "\n",
    " As @jvishnuvardhan pointed, using _set_inputs does the work. However, I think it should not be necessary if the model is called and fed an input. In other words, the call function of Model should automatically call _set_inputs with the input received\n",
    "\n",
    "**again:**\n",
    "\n",
    "https://github.com/tensorflow/tensorflow/issues/31057#issuecomment-580192402\n",
    "\n",
    " if you use model.predict(...) instead of model(...) it works.\n",
    " \n",
    "**might not work:**\n",
    "\n",
    " https://github.com/tensorflow/tensorflow/issues/31057#issuecomment-589172098\n",
    " I can't save a custom model even though I successfully call model.predict(...) before the save. I get all kinds of error. My model is a seq2seq model. Why is tensorflow saying the subclassing keras.Model is the recommended low-level/flexible way when i is almost impossible to save it as a SavedModel?..."
   ]
  },
  {
   "cell_type": "markdown",
   "metadata": {},
   "source": [
    "## load image for single run"
   ]
  },
  {
   "cell_type": "code",
   "execution_count": 8,
   "metadata": {
    "ExecuteTime": {
     "end_time": "2020-03-18T23:12:08.247404Z",
     "start_time": "2020-03-18T23:12:08.240606Z"
    }
   },
   "outputs": [],
   "source": [
    "folder_idx='Aaron Eckhart'\n",
    "image_idx='000001.jpg'\n",
    "\n",
    "pfad=str(Path.cwd() / 'sizeceleb_224_224' / str(folder_idx) / str(image_idx))\n",
    "\n",
    "img=cv2.imread(pfad) \n",
    "\n",
    "if img.shape > (224,224): #downsampling\n",
    "    img=cv2.resize(img, (224, 224), interpolation=cv2.INTER_AREA)\n",
    "pixels = img.astype('float32')\n",
    "sample = np.expand_dims(pixels, axis=0)\n",
    "sample = preprocess_input(sample, version=2)\n"
   ]
  },
  {
   "cell_type": "markdown",
   "metadata": {},
   "source": [
    "Run the model with a the single image to set the input"
   ]
  },
  {
   "cell_type": "code",
   "execution_count": null,
   "metadata": {
    "ExecuteTime": {
     "end_time": "2020-03-18T22:43:04.532207Z",
     "start_time": "2020-03-18T22:42:46.336076Z"
    }
   },
   "outputs": [],
   "source": [
    "resnet50_features = VGGFace(model='resnet50', include_top=False, input_shape=(224, 224, 3),\n",
    "                                pooling='avg')  # pooling: None, avg or max\n",
    "\n",
    "\n",
    "resnet50_features.compile(optimizer='SGD', loss='categorical_crossentropy', metrics=['accuracy'])\n",
    "\n",
    "!mkdir -p saved_model        \n",
    "\n",
    "def case(Fall):\n",
    "    print(\"Fall: \", Fall)\n",
    "    if Fall==1:\n",
    "        # VERSION 1 Run/Transfrom Keras model into tf model, then save as h5\n",
    "        EMBEDDINGS = resnet50_features.predict(sample)\n",
    "        tf_model = tf.keras.models.Model(resnet50_features)\n",
    "        EMBEDDINGS = tf_model.predict(sample)\n",
    "        resnet50_features.save('saved_model/my_model.h5')\n",
    "        \n",
    "    if Fall==2:\n",
    "        # VERSION 2 Only run the Keras model, then save as pb\n",
    "        EMBEDDINGS = resnet50_features.predict(sample)\n",
    "        tf.saved_model.save(resnet50_features, 'saved_model/my_model2.pb')\n",
    "        \n",
    "    if Fall==3:\n",
    "        #VERSION 3 Run/Transform Keras into tf model, then save as pb\n",
    "        EMBEDDINGS = resnet50_features.predict(sample)\n",
    "        tf_model = tf.keras.models.Model(resnet50_features)\n",
    "        EMBEDDINGS = tf_model.predict(sample)\n",
    "        tf.saved_model.save(resnet50_features, 'saved_model/my_model.pb')\n",
    "        \n",
    "    if Fall==4:\n",
    "        #VERSION 4 Run/Transform Keras model into tf model and convert to tfligth model\n",
    "        EMBEDDINGS = resnet50_features.predict(sample)\n",
    "        tf_model = tf.keras.models.Model(resnet50_features)\n",
    "        EMBEDDINGS = tf_model.predict(sample)\n",
    "        \n",
    "        converter = tf.lite.TFLiteConverter.from_keras_model(tf_model)\n",
    "        tflite_model = converter.convert()\n",
    "        \n",
    "    if Fall==5:\n",
    "        # VERSION 5 Only run the Keras model, then save as h5\n",
    "        #EMBEDDINGS = resnet50_features.predict(sample)    \n",
    "        resnet50_features.save('saved_model/my_model.h5') \n",
    "        \n",
    "    if Fall==6:\n",
    "        # Version 6 cast the Keras model into a TF model (https://github.com/keras-team/keras/issues/9310#issuecomment-391350641)\n",
    "        myKerasModel = build_keras_model(resnet50_features) # put your keras model here\n",
    "        tfCompatibleMod = tf.keras.models.Model(myKerasModel) # cast to type tensorflow expect\n",
    "        tfCompatibleMod.compile(...) # compile\n",
    "        estimator = tf.keras.estimator.model_to_estimator(keras_model=tfCompatibleMod)\n",
    "case(5)\n"
   ]
  },
  {
   "cell_type": "markdown",
   "metadata": {},
   "source": [
    "Fall 5 will work but does not really solve the issue. But lets try to convert the h5 into pb. \n",
    "\n",
    "Call the keras to pb tool from: https://github.com/amir-abdi/keras_to_tensorflow\n",
    "to transpose the h5 saved model to a pb file. It does nit run under Tensorflow 2.0 so use a enviroment with e.g., TF 1.15.\n",
    "\n",
    "If the subporcess does snot work, just use the terminal and call:\n",
    "\n",
    "python3 h5_to_pb/keras_to_tensorflow.py --input_model=\"/saved_model/my_model.h5\" --output_model=\"/saved_model/my_model3.pb\""
   ]
  },
  {
   "cell_type": "code",
   "execution_count": null,
   "metadata": {
    "ExecuteTime": {
     "end_time": "2020-03-18T22:43:14.077946Z",
     "start_time": "2020-03-18T22:43:11.016420Z"
    }
   },
   "outputs": [],
   "source": [
    "import os\n",
    "from pathlib import Path\n",
    "import subprocess\n",
    "\n",
    "# New process, connected to the Python interpreter through pipes:\n",
    "subprocess.run(['bash','-c','python3 h5_to_pb/keras_to_tensorflow.py --input_model=\"/saved_model/my_model.h5\" --output_model=\"/saved_model/my_model3.pb\"'], capture_output=True)\n",
    "#prog = subprocess.Popen(['bash','-c','python3 h5_to_pb/keras_to_tensorflow.py --input_model=\"/saved_model/my_model.h5\" --output_model=\"/saved_model/my_model3.pb\"'], stdout=subprocess.PIPE, stderr=subprocess.PIPE)\n",
    "#prog.communicate()  # Returns (stdoutdata, stderrdata): stdout and stderr are ignored, here\n",
    "#if prog.returncode:\n",
    " #   raise Exception('program returned error code {0}'.format(prog.returncode))\n"
   ]
  },
  {
   "cell_type": "code",
   "execution_count": 4,
   "metadata": {
    "ExecuteTime": {
     "end_time": "2020-03-18T22:48:43.554942Z",
     "start_time": "2020-03-18T22:48:36.951527Z"
    }
   },
   "outputs": [
    {
     "name": "stdout",
     "output_type": "stream",
     "text": [
      "WARNING:tensorflow:No training configuration found in save file: the model was *not* compiled. Compile it manually.\n",
      "abbhbz\n"
     ]
    },
    {
     "data": {
      "text/plain": [
       "93951728"
      ]
     },
     "execution_count": 4,
     "metadata": {},
     "output_type": "execute_result"
    }
   ],
   "source": [
    "#Seems to work if the model is manually compiled\n",
    "\n",
    "\n",
    "import tensorflow as tf\n",
    "\n",
    "model = tf.keras.models.load_model('saved_model/my_model.h5')\n",
    "model.compile(optimizer='sgd', loss='mean_squared_error')\n",
    "converter = tf.lite.TFLiteConverter.from_keras_model(model)\n",
    "tflite_model = converter.convert()\n",
    "open(\"saved_model/converted_model.tflite\", \"wb\").write(tflite_model)\n",
    "\n",
    "# # #converter = tf.lite.TFLiteConverter.from_saved_model(saved_model_dir)\n",
    "# # converter = tf.lite.TFLiteConverter.from_keras_model(resnet50_features)\n",
    "# # converter.optimizations = [tf.lite.Optimize.OPTIMIZE_FOR_SIZE]\n",
    "# # tflite_quant_model = converter.convert()"
   ]
  },
  {
   "cell_type": "code",
   "execution_count": null,
   "metadata": {
    "ExecuteTime": {
     "end_time": "2020-03-18T21:29:00.668497Z",
     "start_time": "2020-03-18T21:28:53.461402Z"
    }
   },
   "outputs": [],
   "source": [
    "import logging\n",
    "import tensorflow as tf\n",
    "from tensorflow.compat.v1 import graph_util\n",
    "from tensorflow.python.keras import backend as K\n",
    "from tensorflow import keras\n",
    "\n",
    "# necessary !!!\n",
    "tf.compat.v1.disable_eager_execution()\n",
    "\n",
    "h5_path = 'saved_model/my_model.h5'\n",
    "model = keras.models.load_model(h5_path)\n",
    "model.summary()\n",
    "# save pb\n",
    "with K.get_session() as sess:\n",
    "    output_names = [out.op.name for out in model.outputs]\n",
    "    input_graph_def = sess.graph.as_graph_def()\n",
    "    for node in input_graph_def.node:\n",
    "        node.device = \"\"\n",
    "    graph = graph_util.remove_training_nodes(input_graph_def)\n",
    "    graph_frozen = graph_util.convert_variables_to_constants(sess, graph, output_names)\n",
    "    tf.io.write_graph(graph_frozen, 'saved_model', 'model.pb', as_text=False)\n",
    "logging.info(\"save pb successfully！\")"
   ]
  },
  {
   "cell_type": "code",
   "execution_count": null,
   "metadata": {
    "ExecuteTime": {
     "end_time": "2020-03-18T21:29:32.734308Z",
     "start_time": "2020-03-18T21:29:32.213924Z"
    }
   },
   "outputs": [],
   "source": [
    "import tensorflow as tf\n",
    "\n",
    "saved_model_dir='saved_model'\n",
    "converter = tf.lite.TFLiteConverter.from_saved_model(saved_model_dir)\n",
    "converter.optimizations = [tf.lite.Optimize.OPTIMIZE_FOR_SIZE]\n",
    "tflite_quant_model = converter.convert()\n"
   ]
  },
  {
   "cell_type": "code",
   "execution_count": null,
   "metadata": {},
   "outputs": [],
   "source": [
    "model.save('./my_TFl_model') "
   ]
  }
 ],
 "metadata": {
  "kernelspec": {
   "display_name": "Python 3",
   "language": "python",
   "name": "python3"
  },
  "language_info": {
   "codemirror_mode": {
    "name": "ipython",
    "version": 3
   },
   "file_extension": ".py",
   "mimetype": "text/x-python",
   "name": "python",
   "nbconvert_exporter": "python",
   "pygments_lexer": "ipython3",
   "version": "3.7.5"
  },
  "varInspector": {
   "cols": {
    "lenName": 16,
    "lenType": 16,
    "lenVar": 40
   },
   "kernels_config": {
    "python": {
     "delete_cmd_postfix": "",
     "delete_cmd_prefix": "del ",
     "library": "var_list.py",
     "varRefreshCmd": "print(var_dic_list())"
    },
    "r": {
     "delete_cmd_postfix": ") ",
     "delete_cmd_prefix": "rm(",
     "library": "var_list.r",
     "varRefreshCmd": "cat(var_dic_list()) "
    }
   },
   "types_to_exclude": [
    "module",
    "function",
    "builtin_function_or_method",
    "instance",
    "_Feature"
   ],
   "window_display": false
  }
 },
 "nbformat": 4,
 "nbformat_minor": 2
}
