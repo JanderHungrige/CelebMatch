{
 "cells": [
  {
   "cell_type": "code",
   "execution_count": 11,
   "metadata": {
    "ExecuteTime": {
     "end_time": "2020-01-31T14:27:37.437966Z",
     "start_time": "2020-01-31T14:27:20.996698Z"
    }
   },
   "outputs": [
    {
     "name": "stderr",
     "output_type": "stream",
     "text": [
      "/home/base/anaconda3/envs/celeb/lib/python3.6/site-packages/ipykernel_launcher.py:58: DeprecationWarning: elementwise comparison failed; this will raise an error in the future.\n"
     ]
    },
    {
     "name": "stdout",
     "output_type": "stream",
     "text": [
      "detect middel face  6.151199340820312e-05\n",
      "detect middel face  5.817413330078125e-05\n"
     ]
    }
   ],
   "source": [
    "import cv2\n",
    "import numpy as np\n",
    "\n",
    "from pathlib import Path\n",
    "from keras_vggface.vggface import VGGFace\n",
    "from keras_vggface.utils import preprocess_input\n",
    "\n",
    "from time import time\n",
    "\n",
    "\n",
    "face_cascade = cv2.CascadeClassifier(str(Path.cwd() / 'haarcascade_frontalface_alt.xml'))\n",
    "brt = 90  # value could be + or - for brightness or darkness\n",
    "p=35# frame size around detected face\n",
    "gray=False\n",
    "width=height=224 # size of the cropped image. Same as required for network\n",
    "mitte=np.empty(shape=[0, 0])\n",
    "mittleres_Gesicht_X=()\n",
    "\n",
    "cap = cv2.VideoCapture(0)\n",
    "resnet50_features = VGGFace(model='resnet50', include_top=False, input_shape=(224, 224, 3),\n",
    "                                pooling='avg')  # pooling: None, avg or max\n",
    "\n",
    "\n",
    "ret, frame = cap.read() \n",
    "framemitte=np.shape(frame)[1]/2\n",
    "mitte=np.empty(shape=[0, 0])\n",
    "mittleres_Gesicht_X=()\n",
    "\n",
    "while(True):\n",
    "# CAPTURE FRAME BY FRAME\n",
    "    \n",
    "    ret, frame = cap.read() \n",
    "    if gray==True:\n",
    "        frame = cv2.cvtColor(frame, cv2.COLOR_BGR2GRAY)\n",
    "        \n",
    "    cv2.imshow('frame', frame) \n",
    "    \n",
    "#DECTECT FACE IN VIDEO CONTINUOUSLY       \n",
    "    faces_detected = face_cascade.detectMultiScale(frame, scaleFactor=1.1, minNeighbors=5)\n",
    "    \n",
    "   \n",
    "    for (x,y,w,h) in faces_detected:\n",
    "        rechteck=cv2.rectangle(frame, (x-p, y-p+2), (x+w+p, y+h+p+2), (0, 255, 0), 2)  \n",
    "        rechteck=cv2.rectangle(frame, (x-p, y-p+2), (x+int(np.ceil(height))+p, y+int(np.ceil(height))+p+2), (0, 0, 255), 2)  \n",
    "\n",
    "        cv2.imshow('frame', rechteck)    \n",
    "        \n",
    "        # DETECT KEY INPUT  - ESC OR FIND MOST CENTERED FACE  \n",
    "    key = cv2.waitKey(1)\n",
    "    if key == 27: #Esc key\n",
    "        cap.release()\n",
    "        cv2.destroyAllWindows()\n",
    "        break\n",
    "    if key & 0xFF == ord('s'): \n",
    "        if mittleres_Gesicht_X is not ():\n",
    "            mittleres_Gesicht_X=()\n",
    "        #faces_detected = face_cascade.detectMultiScale(frame, scaleFactor=1.1, minNeighbors=5)\n",
    "        if faces_detected != (): # only if the cascader detected a face, otherwise error\n",
    "            start1 = time()          \n",
    "            #mitte=[np.append(mitte,(x+w/2)) for (x,y,w,h) in faces_detected]\n",
    "            \n",
    "            for (x,y,w,h) in faces_detected:\n",
    "                mitte=np.append(mitte,(x+w/2))\n",
    "                \n",
    "            mittleres_Gesicht_X = (np.abs(mitte - framemitte)).argmin()\n",
    "            end1 = time()\n",
    "            print('detect middel face ', end1-start1)\n"
   ]
  },
  {
   "cell_type": "code",
   "execution_count": 7,
   "metadata": {
    "ExecuteTime": {
     "end_time": "2020-01-31T13:27:23.008996Z",
     "start_time": "2020-01-31T13:27:22.978737Z"
    }
   },
   "outputs": [],
   "source": [
    "cap.release()\n",
    "cv2.destroyAllWindows()"
   ]
  }
 ],
 "metadata": {
  "kernelspec": {
   "display_name": "Python 3",
   "language": "python",
   "name": "python3"
  },
  "language_info": {
   "codemirror_mode": {
    "name": "ipython",
    "version": 3
   },
   "file_extension": ".py",
   "mimetype": "text/x-python",
   "name": "python",
   "nbconvert_exporter": "python",
   "pygments_lexer": "ipython3",
   "version": "3.6.10"
  },
  "varInspector": {
   "cols": {
    "lenName": 16,
    "lenType": 16,
    "lenVar": 40
   },
   "kernels_config": {
    "python": {
     "delete_cmd_postfix": "",
     "delete_cmd_prefix": "del ",
     "library": "var_list.py",
     "varRefreshCmd": "print(var_dic_list())"
    },
    "r": {
     "delete_cmd_postfix": ") ",
     "delete_cmd_prefix": "rm(",
     "library": "var_list.r",
     "varRefreshCmd": "cat(var_dic_list()) "
    }
   },
   "position": {
    "height": "706.85px",
    "left": "1452px",
    "right": "20px",
    "top": "99px",
    "width": "477px"
   },
   "types_to_exclude": [
    "module",
    "function",
    "builtin_function_or_method",
    "instance",
    "_Feature"
   ],
   "window_display": true
  }
 },
 "nbformat": 4,
 "nbformat_minor": 2
}
